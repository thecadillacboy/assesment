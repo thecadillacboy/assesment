{
 "cells": [
  {
   "cell_type": "code",
   "execution_count": null,
   "id": "8bd8730a",
   "metadata": {},
   "outputs": [],
   "source": [
    "import pandas as pd\n",
    "import numpy as np\n",
    "import seaborn as sns\n",
    "import matplotlib.pyplot as plt\n",
    "import datetime\n",
    "import regex as re\n",
    "\n",
    "#%matplotlibs inline\n",
    "\n",
    "disney_df = pd.read_csv(r'C:\\Users\\David Chaniott\\Documents\\NSS - Laptop\\python\\class_assessment\\disney_plus_titles.csv')\n",
    "disney_df.duration = disney_df.duration.str.strip(' min')\n",
    "disney_df.info()\n"
   ]
  },
  {
   "cell_type": "code",
   "execution_count": null,
   "id": "dbfcb123",
   "metadata": {},
   "outputs": [],
   "source": [
    "# 1) Create a new dataframe named \"movies_df\" with consisting of only movies.\n",
    "movies_df = disney_df.loc[disney_df['type']=='Movie']\n",
    "movies_df.duration = movies_df.duration.astype(int)\n",
    "movies_df.head()"
   ]
  },
  {
   "cell_type": "code",
   "execution_count": null,
   "id": "fb976a75",
   "metadata": {},
   "outputs": [],
   "source": [
    "# 2) Create a new dataframe named \"movie_ratings\" from movies_df that consists of\n",
    "# the top5 ratings by count. This dataframe should consist of only two columns,\n",
    "# rating and count.\n",
    "\n",
    "movie_ratings = movies_df.rating.value_counts().head(5)\n",
    "movie_ratings = movie_ratings.reset_index()\n",
    "\n",
    "movie_ratings = movie_ratings.rename(columns={'index':'rating','rating':'count'})\n",
    "movie_ratings"
   ]
  },
  {
   "cell_type": "code",
   "execution_count": null,
   "id": "60c20b71",
   "metadata": {},
   "outputs": [],
   "source": [
    "# 3) Use the movie_ratings dataframe to create a bar chart showing count of the\n",
    "# top 5 ratings.\n",
    "\n",
    "movie_ratings.plot(kind='bar', x='rating')"
   ]
  },
  {
   "cell_type": "code",
   "execution_count": null,
   "id": "45ef2012",
   "metadata": {},
   "outputs": [],
   "source": [
    "# 4) Using the movies_df, subset the data to create a new dataframe named\n",
    "# \"year_duration\" that only consists of 2 columns, release_year and duration.\n",
    "\n",
    "year_duration = movies_df[['release_year','duration']]"
   ]
  },
  {
   "cell_type": "markdown",
   "id": "553e6381",
   "metadata": {},
   "source": [
    "# 5) Find min, max, and average duration of movies from the 1975-1984.\n",
    "year_duration['before_great_mouse_detective'] = (year_duration.release_year > 1975) & (year_duration.release_year < 1984) \n",
    "\n",
    "year_duration['before_great_mouse_detective'] = year_duration['before_great_mouse_detective'].astype(bool)\n",
    "bgmd = year_duration.loc[year_duration['before_great_mouse_detective']==True]\n",
    "bgmd['duration'] = bgmd.duration.str.strip(' min')\n",
    "bgmd['duration'] = pd.to_numeric(bgmd.duration)\n",
    "print('The min duration is ' + min(year_duration.duration))\n",
    "print('The max duration is ' + max(year_duration.duration))\n",
    "year_duration.info()\n",
    "# Chris, I can't figure out why duration is still an object datatype after the above code.\n",
    "# print('The average duration is ' + np.mean(year_duration.duration))"
   ]
  },
  {
   "cell_type": "code",
   "execution_count": null,
   "id": "6fb620db",
   "metadata": {},
   "outputs": [],
   "source": [
    "# 6) Create a scatterplot using year_duration that looks at movie durations\n",
    "# over the years.  Do you notice any correlation?"
   ]
  },
  {
   "cell_type": "code",
   "execution_count": null,
   "id": "f7e115bc",
   "metadata": {},
   "outputs": [],
   "source": [
    "# 7) Find the actual correlation value, is there any correlation?\n"
   ]
  },
  {
   "cell_type": "code",
   "execution_count": null,
   "id": "84a59d35",
   "metadata": {},
   "outputs": [],
   "source": [
    "# 8) Use movie_df to find which year had the most G-rated releases.  Can you do\n",
    "# this in a single line of code?\n",
    "\n",
    "movies_df.loc[movies_df.rating=='G'].value_counts(movies_df.release_year).head(1)\n"
   ]
  },
  {
   "cell_type": "code",
   "execution_count": null,
   "id": "c5ad9f98",
   "metadata": {},
   "outputs": [],
   "source": [
    "# 9) Which year had the most movie releases?  What percentage of movies that year\n",
    "# had durations that were statistical outliers for that year?\n",
    "print('most releases')\n",
    "print(year_duration.value_counts(year_duration.release_year).head(1))\n",
    "twentytwenty = year_duration.loc[year_duration.release_year==2020]\n",
    "lowoutliers = twentytwenty.loc[twentytwenty.duration < 27]\n",
    "highoutliers = twentytwenty.loc[twentytwenty.duration > 107]\n",
    "print('outlying percent')\n",
    "print(((len(highoutliers) + len(lowoutliers)) / len(twentytwenty) ) * 100 )"
   ]
  },
  {
   "cell_type": "code",
   "execution_count": null,
   "id": "d569fc1a",
   "metadata": {},
   "outputs": [],
   "source": [
    "movies_df.info()"
   ]
  },
  {
   "cell_type": "code",
   "execution_count": null,
   "id": "24173bff",
   "metadata": {},
   "outputs": [],
   "source": [
    "# 10) Create a new column in movies_df that catagorizes each movie as either\n",
    "# short, average, or long.  Short movies should be 30 mins or less, long movies\n",
    "# should be over 2 hours.\n",
    "\n",
    "movies_df['length'] = ''\n",
    "\n",
    "for movie in movies_df.iterrows() :\n",
    "    if movies_df.duration > 120 :\n",
    "        movies_df['length'] = 'long'\n",
    "    elif movies_df.duration > 30 :\n",
    "        movies_df['length'] = 'average'\n",
    "    else :\n",
    "     movies_df['length'] = 'short'"
   ]
  },
  {
   "cell_type": "code",
   "execution_count": null,
   "id": "0e300b0a",
   "metadata": {},
   "outputs": [],
   "source": [
    "# 11) Make a pie chart of the above movie lengths."
   ]
  },
  {
   "cell_type": "code",
   "execution_count": null,
   "id": "70e6cf4b",
   "metadata": {},
   "outputs": [],
   "source": [
    "# 14) Was any movie added on your birthday last year?\n",
    "\n",
    "# Skipped ahead to run this before getting the column converted to DT\n",
    "movies_df.loc[movies_df.date_added=='September 27, 2021']\n",
    "#Nope. No movies on my birthday."
   ]
  },
  {
   "cell_type": "code",
   "execution_count": null,
   "id": "018e2785",
   "metadata": {},
   "outputs": [],
   "source": [
    "# 12) Which movie had the greatest gap from the year it was released to the year\n",
    "#  was added?  What is the average?\n",
    "movies_df.date_added = movies_df.date_added.astype(datetime)\n",
    "movies_df.info()\n"
   ]
  },
  {
   "cell_type": "code",
   "execution_count": null,
   "id": "d3f99103",
   "metadata": {},
   "outputs": [],
   "source": [
    "# 13) How many movies were added during the first year after the pandemic\n",
    "# lockdown? (Assume the lockdown began on March 16, 2020)"
   ]
  },
  {
   "cell_type": "code",
   "execution_count": null,
   "id": "cb539fdb",
   "metadata": {},
   "outputs": [],
   "source": [
    "# 15) How many TV shows or Movies have the word 'dog' in the title regardless if\n",
    "# it is capitalized?\n",
    "\n",
    "dog = disney_df.title.str.findall('dog', flags=re.IGNORECASE)\n",
    "dog.value_counts()\n",
    "#Throws an error yet also gives an answer."
   ]
  }
 ],
 "metadata": {
  "kernelspec": {
   "display_name": "Python 3 (ipykernel)",
   "language": "python",
   "name": "python3"
  },
  "language_info": {
   "codemirror_mode": {
    "name": "ipython",
    "version": 3
   },
   "file_extension": ".py",
   "mimetype": "text/x-python",
   "name": "python",
   "nbconvert_exporter": "python",
   "pygments_lexer": "ipython3",
   "version": "3.9.7"
  }
 },
 "nbformat": 4,
 "nbformat_minor": 5
}
