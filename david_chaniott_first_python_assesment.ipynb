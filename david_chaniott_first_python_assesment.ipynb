{
 "cells": [
  {
   "cell_type": "code",
   "execution_count": 1,
   "id": "8bd8730a",
   "metadata": {},
   "outputs": [],
   "source": [
    "import pandas as pd\n",
    "import numpy as np\n",
    "import seaborn as sns\n",
    "import matplotlib.pyplot as plt\n",
    "import datetime\n",
    "from datetime import datetime\n",
    "import regex as re\n",
    "\n",
    "disney_df = pd.read_csv('..\\disney_plus_titles.csv')\n",
    "disney_df.duration = disney_df.duration.str.strip(' min')"
   ]
  },
  {
   "cell_type": "code",
   "execution_count": 2,
   "id": "dbfcb123",
   "metadata": {},
   "outputs": [
    {
     "name": "stderr",
     "output_type": "stream",
     "text": [
      "C:\\ProgramData\\Anaconda3\\lib\\site-packages\\pandas\\core\\generic.py:5516: SettingWithCopyWarning: \n",
      "A value is trying to be set on a copy of a slice from a DataFrame.\n",
      "Try using .loc[row_indexer,col_indexer] = value instead\n",
      "\n",
      "See the caveats in the documentation: https://pandas.pydata.org/pandas-docs/stable/user_guide/indexing.html#returning-a-view-versus-a-copy\n",
      "  self[name] = value\n"
     ]
    }
   ],
   "source": [
    "# 1) Create a new dataframe named \"movies_df\" with consisting of only movies.\n",
    "movies_df = disney_df.loc[disney_df['type']=='Movie']\n",
    "movies_df.duration = movies_df.duration.astype(int)"
   ]
  },
  {
   "cell_type": "code",
   "execution_count": 3,
   "id": "fb976a75",
   "metadata": {},
   "outputs": [
    {
     "data": {
      "text/html": [
       "<div>\n",
       "<style scoped>\n",
       "    .dataframe tbody tr th:only-of-type {\n",
       "        vertical-align: middle;\n",
       "    }\n",
       "\n",
       "    .dataframe tbody tr th {\n",
       "        vertical-align: top;\n",
       "    }\n",
       "\n",
       "    .dataframe thead th {\n",
       "        text-align: right;\n",
       "    }\n",
       "</style>\n",
       "<table border=\"1\" class=\"dataframe\">\n",
       "  <thead>\n",
       "    <tr style=\"text-align: right;\">\n",
       "      <th></th>\n",
       "      <th>rating</th>\n",
       "      <th>count</th>\n",
       "    </tr>\n",
       "  </thead>\n",
       "  <tbody>\n",
       "    <tr>\n",
       "      <th>0</th>\n",
       "      <td>G</td>\n",
       "      <td>235</td>\n",
       "    </tr>\n",
       "    <tr>\n",
       "      <th>1</th>\n",
       "      <td>PG</td>\n",
       "      <td>226</td>\n",
       "    </tr>\n",
       "    <tr>\n",
       "      <th>2</th>\n",
       "      <td>TV-G</td>\n",
       "      <td>224</td>\n",
       "    </tr>\n",
       "    <tr>\n",
       "      <th>3</th>\n",
       "      <td>TV-PG</td>\n",
       "      <td>165</td>\n",
       "    </tr>\n",
       "    <tr>\n",
       "      <th>4</th>\n",
       "      <td>PG-13</td>\n",
       "      <td>60</td>\n",
       "    </tr>\n",
       "  </tbody>\n",
       "</table>\n",
       "</div>"
      ],
      "text/plain": [
       "  rating  count\n",
       "0      G    235\n",
       "1     PG    226\n",
       "2   TV-G    224\n",
       "3  TV-PG    165\n",
       "4  PG-13     60"
      ]
     },
     "execution_count": 3,
     "metadata": {},
     "output_type": "execute_result"
    }
   ],
   "source": [
    "# 2) Create a new dataframe named \"movie_ratings\" from movies_df that consists of\n",
    "# the top5 ratings by count. This dataframe should consist of only two columns,\n",
    "# rating and count.\n",
    "movie_ratings = movies_df.rating.value_counts().head(5)\n",
    "movie_ratings = movie_ratings.reset_index()\n",
    "movie_ratings = movie_ratings.rename(columns={'index':'rating','rating':'count'})\n",
    "movie_ratings"
   ]
  },
  {
   "cell_type": "code",
   "execution_count": 4,
   "id": "60c20b71",
   "metadata": {},
   "outputs": [
    {
     "data": {
      "text/plain": [
       "<AxesSubplot:xlabel='rating'>"
      ]
     },
     "execution_count": 4,
     "metadata": {},
     "output_type": "execute_result"
    },
    {
     "data": {
      "image/png": "[encoded data removed]",
      "text/plain": [
       "<Figure size 432x288 with 1 Axes>"
      ]
     },
     "metadata": {
      "needs_background": "light"
     },
     "output_type": "display_data"
    }
   ],
   "source": [
    "# 3) Use the movie_ratings dataframe to create a bar chart showing count of the\n",
    "# top 5 ratings.\n",
    "movie_ratings.plot(kind='bar', x='rating')"
   ]
  },
  {
   "cell_type": "code",
   "execution_count": 5,
   "id": "45ef2012",
   "metadata": {},
   "outputs": [],
   "source": [
    "# 4) Using the movies_df, subset the data to create a new dataframe named\n",
    "# \"year_duration\" that only consists of 2 columns, release_year and duration.\n",
    "year_duration = movies_df[['release_year','duration']]"
   ]
  },
  {
   "cell_type": "code",
   "execution_count": 6,
   "id": "553e6381",
   "metadata": {},
   "outputs": [
    {
     "name": "stdout",
     "output_type": "stream",
     "text": [
      "The min duration is 2\n",
      "The max duration is 183\n",
      "The average duration is 73.08072653884965\n"
     ]
    },
    {
     "name": "stderr",
     "output_type": "stream",
     "text": [
      "C:\\Users\\DAVIDC~1\\AppData\\Local\\Temp/ipykernel_29188/3505208508.py:2: SettingWithCopyWarning: \n",
      "A value is trying to be set on a copy of a slice from a DataFrame.\n",
      "Try using .loc[row_indexer,col_indexer] = value instead\n",
      "\n",
      "See the caveats in the documentation: https://pandas.pydata.org/pandas-docs/stable/user_guide/indexing.html#returning-a-view-versus-a-copy\n",
      "  year_duration['before_great_mouse_detective'] = (year_duration.release_year > 1975) & (year_duration.release_year < 1984)\n",
      "C:\\Users\\DAVIDC~1\\AppData\\Local\\Temp/ipykernel_29188/3505208508.py:3: SettingWithCopyWarning: \n",
      "A value is trying to be set on a copy of a slice from a DataFrame.\n",
      "Try using .loc[row_indexer,col_indexer] = value instead\n",
      "\n",
      "See the caveats in the documentation: https://pandas.pydata.org/pandas-docs/stable/user_guide/indexing.html#returning-a-view-versus-a-copy\n",
      "  year_duration['before_great_mouse_detective'] = year_duration['before_great_mouse_detective'].astype(bool)\n",
      "C:\\Users\\DAVIDC~1\\AppData\\Local\\Temp/ipykernel_29188/3505208508.py:5: SettingWithCopyWarning: \n",
      "A value is trying to be set on a copy of a slice from a DataFrame.\n",
      "Try using .loc[row_indexer,col_indexer] = value instead\n",
      "\n",
      "See the caveats in the documentation: https://pandas.pydata.org/pandas-docs/stable/user_guide/indexing.html#returning-a-view-versus-a-copy\n",
      "  bgmd['duration'] = pd.to_numeric(bgmd.duration)\n"
     ]
    }
   ],
   "source": [
    "# 5) Find min, max, and average duration of movies from the 1975-1984.\n",
    "year_duration['before_great_mouse_detective'] = (year_duration.release_year > 1975) & (year_duration.release_year < 1984) \n",
    "year_duration['before_great_mouse_detective'] = year_duration['before_great_mouse_detective'].astype(bool)\n",
    "bgmd = year_duration.loc[year_duration['before_great_mouse_detective']==True]\n",
    "bgmd['duration'] = pd.to_numeric(bgmd.duration)\n",
    "print('The min duration is ' + str(min(year_duration.duration)))\n",
    "print('The max duration is ' + str(max(year_duration.duration)))\n",
    "print('The average duration is ' + str(np.mean(year_duration.duration)))"
   ]
  },
  {
   "cell_type": "code",
   "execution_count": 7,
   "id": "6fb620db",
   "metadata": {},
   "outputs": [
    {
     "data": {
      "text/plain": [
       "<AxesSubplot:xlabel='release_year', ylabel='duration'>"
      ]
     },
     "execution_count": 7,
     "metadata": {},
     "output_type": "execute_result"
    },
    {
     "data": {
      "image/png": "[encoded data removed]",
      "text/plain": [
       "<Figure size 432x288 with 1 Axes>"
      ]
     },
     "metadata": {
      "needs_background": "light"
     },
     "output_type": "display_data"
    }
   ],
   "source": [
    "# 6) Create a scatterplot using year_duration that looks at movie durations\n",
    "# over the years.  Do you notice any correlation?\n",
    "sns.scatterplot(data=year_duration,\n",
    "                x = 'release_year',\n",
    "                y = 'duration')\n",
    "\n",
    "# The higher the year, the longer the movie but not by much"
   ]
  },
  {
   "cell_type": "code",
   "execution_count": 8,
   "id": "f7e115bc",
   "metadata": {},
   "outputs": [
    {
     "data": {
      "text/html": [
       "<div>\n",
       "<style scoped>\n",
       "    .dataframe tbody tr th:only-of-type {\n",
       "        vertical-align: middle;\n",
       "    }\n",
       "\n",
       "    .dataframe tbody tr th {\n",
       "        vertical-align: top;\n",
       "    }\n",
       "\n",
       "    .dataframe thead th {\n",
       "        text-align: right;\n",
       "    }\n",
       "</style>\n",
       "<table border=\"1\" class=\"dataframe\">\n",
       "  <thead>\n",
       "    <tr style=\"text-align: right;\">\n",
       "      <th></th>\n",
       "      <th>duration</th>\n",
       "      <th>release_year</th>\n",
       "    </tr>\n",
       "  </thead>\n",
       "  <tbody>\n",
       "    <tr>\n",
       "      <th>duration</th>\n",
       "      <td>1.000000</td>\n",
       "      <td>0.241268</td>\n",
       "    </tr>\n",
       "    <tr>\n",
       "      <th>release_year</th>\n",
       "      <td>0.241268</td>\n",
       "      <td>1.000000</td>\n",
       "    </tr>\n",
       "  </tbody>\n",
       "</table>\n",
       "</div>"
      ],
      "text/plain": [
       "              duration  release_year\n",
       "duration      1.000000      0.241268\n",
       "release_year  0.241268      1.000000"
      ]
     },
     "execution_count": 8,
     "metadata": {},
     "output_type": "execute_result"
    }
   ],
   "source": [
    "# 7) Find the actual correlation value, is there any correlation?\n",
    "\n",
    "year_duration[['duration','release_year']].corr()\n",
    "\n",
    "# Very low correlation."
   ]
  },
  {
   "cell_type": "code",
   "execution_count": 9,
   "id": "84a59d35",
   "metadata": {},
   "outputs": [
    {
     "data": {
      "text/plain": [
       "release_year\n",
       "2003    12\n",
       "dtype: int64"
      ]
     },
     "execution_count": 9,
     "metadata": {},
     "output_type": "execute_result"
    }
   ],
   "source": [
    "# 8) Use movie_df to find which year had the most G-rated releases.  Can you do\n",
    "# this in a single line of code?\n",
    "movies_df.loc[movies_df.rating=='G'].value_counts(movies_df.release_year).head(1)\n"
   ]
  },
  {
   "cell_type": "code",
   "execution_count": 10,
   "id": "c5ad9f98",
   "metadata": {},
   "outputs": [
    {
     "name": "stdout",
     "output_type": "stream",
     "text": [
      "most releases\n",
      "release_year\n",
      "2020    72\n",
      "dtype: int64\n",
      "outlying percent\n",
      "26.38888888888889\n"
     ]
    }
   ],
   "source": [
    "# 9) Which year had the most movie releases?  What percentage of movies that year\n",
    "# had durations that were statistical outliers for that year?\n",
    "print('most releases')\n",
    "print(year_duration.value_counts(year_duration.release_year).head(1))\n",
    "twentytwenty = year_duration.loc[year_duration.release_year==2020]\n",
    "lowoutliers = twentytwenty.loc[twentytwenty.duration < 27]\n",
    "highoutliers = twentytwenty.loc[twentytwenty.duration > 107]\n",
    "print('outlying percent')\n",
    "print(((len(highoutliers) + len(lowoutliers)) / len(twentytwenty) ) * 100 )"
   ]
  },
  {
   "cell_type": "code",
   "execution_count": 11,
   "id": "24173bff",
   "metadata": {},
   "outputs": [
    {
     "name": "stderr",
     "output_type": "stream",
     "text": [
      "C:\\Users\\DAVIDC~1\\AppData\\Local\\Temp/ipykernel_29188/2088418892.py:4: SettingWithCopyWarning: \n",
      "A value is trying to be set on a copy of a slice from a DataFrame.\n",
      "Try using .loc[row_indexer,col_indexer] = value instead\n",
      "\n",
      "See the caveats in the documentation: https://pandas.pydata.org/pandas-docs/stable/user_guide/indexing.html#returning-a-view-versus-a-copy\n",
      "  movies_df['length'] = ''\n",
      "C:\\ProgramData\\Anaconda3\\lib\\site-packages\\pandas\\core\\indexing.py:1817: SettingWithCopyWarning: \n",
      "A value is trying to be set on a copy of a slice from a DataFrame.\n",
      "Try using .loc[row_indexer,col_indexer] = value instead\n",
      "\n",
      "See the caveats in the documentation: https://pandas.pydata.org/pandas-docs/stable/user_guide/indexing.html#returning-a-view-versus-a-copy\n",
      "  self._setitem_single_column(loc, value, pi)\n"
     ]
    }
   ],
   "source": [
    "# 10) Create a new column in movies_df that catagorizes each movie as either\n",
    "# short, average, or long.  Short movies should be 30 mins or less, long movies\n",
    "# should be over 2 hours.\n",
    "movies_df['length'] = ''\n",
    "\n",
    "for movie, row in movies_df.iterrows() :\n",
    "    if row.duration > 120 :\n",
    "        movies_df.loc[movie, 'length'] = 'long'\n",
    "    elif row.duration > 30 :\n",
    "        movies_df.loc[movie, 'length'] = 'average'\n",
    "    else :\n",
    "     movies_df.loc[movie, 'length'] = 'short'"
   ]
  },
  {
   "cell_type": "code",
   "execution_count": 12,
   "id": "0e300b0a",
   "metadata": {},
   "outputs": [
    {
     "data": {
      "text/plain": [
       "<AxesSubplot:ylabel='length'>"
      ]
     },
     "execution_count": 12,
     "metadata": {},
     "output_type": "execute_result"
    },
    {
     "data": {
      "image/png": "[encoded data removed]",
      "text/plain": [
       "<Figure size 432x288 with 1 Axes>"
      ]
     },
     "metadata": {},
     "output_type": "display_data"
    }
   ],
   "source": [
    "# 11) Make a pie chart of the above movie lengths.\n",
    "movies_df.length.value_counts().plot(kind='pie')"
   ]
  },
  {
   "cell_type": "code",
   "execution_count": 13,
   "id": "70e6cf4b",
   "metadata": {},
   "outputs": [
    {
     "data": {
      "text/html": [
       "<div>\n",
       "<style scoped>\n",
       "    .dataframe tbody tr th:only-of-type {\n",
       "        vertical-align: middle;\n",
       "    }\n",
       "\n",
       "    .dataframe tbody tr th {\n",
       "        vertical-align: top;\n",
       "    }\n",
       "\n",
       "    .dataframe thead th {\n",
       "        text-align: right;\n",
       "    }\n",
       "</style>\n",
       "<table border=\"1\" class=\"dataframe\">\n",
       "  <thead>\n",
       "    <tr style=\"text-align: right;\">\n",
       "      <th></th>\n",
       "      <th>show_id</th>\n",
       "      <th>type</th>\n",
       "      <th>title</th>\n",
       "      <th>director</th>\n",
       "      <th>cast</th>\n",
       "      <th>country</th>\n",
       "      <th>date_added</th>\n",
       "      <th>release_year</th>\n",
       "      <th>rating</th>\n",
       "      <th>duration</th>\n",
       "      <th>listed_in</th>\n",
       "      <th>description</th>\n",
       "      <th>length</th>\n",
       "    </tr>\n",
       "  </thead>\n",
       "  <tbody>\n",
       "  </tbody>\n",
       "</table>\n",
       "</div>"
      ],
      "text/plain": [
       "Empty DataFrame\n",
       "Columns: [show_id, type, title, director, cast, country, date_added, release_year, rating, duration, listed_in, description, length]\n",
       "Index: []"
      ]
     },
     "execution_count": 13,
     "metadata": {},
     "output_type": "execute_result"
    }
   ],
   "source": [
    "# 14) Was any movie added on your birthday last year?\n",
    "\n",
    "# Skipped ahead to run this before getting the column converted to DT\n",
    "movies_df.loc[movies_df.date_added=='September 27, 2021']\n",
    "#Nope. No movies on my birthday."
   ]
  },
  {
   "cell_type": "code",
   "execution_count": 14,
   "id": "018e2785",
   "metadata": {},
   "outputs": [
    {
     "name": "stderr",
     "output_type": "stream",
     "text": [
      "C:\\ProgramData\\Anaconda3\\lib\\site-packages\\pandas\\core\\generic.py:5516: SettingWithCopyWarning: \n",
      "A value is trying to be set on a copy of a slice from a DataFrame.\n",
      "Try using .loc[row_indexer,col_indexer] = value instead\n",
      "\n",
      "See the caveats in the documentation: https://pandas.pydata.org/pandas-docs/stable/user_guide/indexing.html#returning-a-view-versus-a-copy\n",
      "  self[name] = value\n",
      "C:\\Users\\DAVIDC~1\\AppData\\Local\\Temp/ipykernel_29188/2355020807.py:5: SettingWithCopyWarning: \n",
      "A value is trying to be set on a copy of a slice from a DataFrame.\n",
      "Try using .loc[row_indexer,col_indexer] = value instead\n",
      "\n",
      "See the caveats in the documentation: https://pandas.pydata.org/pandas-docs/stable/user_guide/indexing.html#returning-a-view-versus-a-copy\n",
      "  movies_df['stream_gap'] = ''\n"
     ]
    },
    {
     "name": "stdout",
     "output_type": "stream",
     "text": [
      "Average stream gap is 7995 days 18:01:05.388496512\n",
      "1146    Longest to stream Steamboat Willie\n",
      "Name: title, dtype: object\n"
     ]
    }
   ],
   "source": [
    "# 12) Which movie had the greatest gap from the year it was released to the year\n",
    "#  was added?  What is the average?\n",
    "movies_df.date_added = pd.to_datetime(movies_df.date_added)\n",
    "movies_df.release_year = pd.to_datetime(movies_df.release_year, format='%Y')\n",
    "movies_df['stream_gap'] = ''\n",
    "\n",
    "for index, row in movies_df.iterrows() :\n",
    "    movies_df.stream_gap = movies_df.date_added - movies_df.release_year\n",
    "\n",
    "print('Average stream gap is ' + str(np.mean(movies_df.stream_gap)))\n",
    "print('Longest to stream ' + movies_df.title.loc[movies_df.stream_gap==max(movies_df.stream_gap)])"
   ]
  },
  {
   "cell_type": "code",
   "execution_count": 15,
   "id": "d3f99103",
   "metadata": {},
   "outputs": [
    {
     "data": {
      "text/plain": [
       "211"
      ]
     },
     "execution_count": 15,
     "metadata": {},
     "output_type": "execute_result"
    }
   ],
   "source": [
    "# 13) How many movies were added during the first year after the pandemic\n",
    "# lockdown? (Assume the lockdown began on March 16, 2020)\n",
    "mask = (movies_df.date_added > '2020-03-16') & (movies_df.date_added < '2021-03-15')\n",
    "lockdown = movies_df.loc[mask]\n",
    "len(lockdown)"
   ]
  },
  {
   "cell_type": "code",
   "execution_count": 16,
   "id": "cb539fdb",
   "metadata": {},
   "outputs": [
    {
     "ename": "TypeError",
     "evalue": "unhashable type: 'list'",
     "output_type": "error",
     "traceback": [
      "\u001b[1;31m---------------------------------------------------------------------------\u001b[0m",
      "\u001b[1;31mTypeError\u001b[0m                                 Traceback (most recent call last)",
      "\u001b[1;32mpandas\\_libs\\hashtable_class_helper.pxi\u001b[0m in \u001b[0;36mpandas._libs.hashtable.PyObjectHashTable.map_locations\u001b[1;34m()\u001b[0m\n",
      "\u001b[1;31mTypeError\u001b[0m: unhashable type: 'list'"
     ]
    },
    {
     "name": "stderr",
     "output_type": "stream",
     "text": [
      "Exception ignored in: 'pandas._libs.index.IndexEngine._call_map_locations'\n",
      "Traceback (most recent call last):\n",
      "  File \"pandas\\_libs\\hashtable_class_helper.pxi\", line 5231, in pandas._libs.hashtable.PyObjectHashTable.map_locations\n",
      "TypeError: unhashable type: 'list'\n"
     ]
    },
    {
     "data": {
      "text/plain": [
       "[]       1349\n",
       "[Dog]      18\n",
       "[dog]       1\n",
       "Name: title, dtype: int64"
      ]
     },
     "execution_count": 16,
     "metadata": {},
     "output_type": "execute_result"
    }
   ],
   "source": [
    "# 15) How many TV shows or Movies have the word 'dog' in the title regardless if\n",
    "# it is capitalized?\n",
    "\n",
    "dog = disney_df.title.str.findall('dog', flags=re.IGNORECASE)\n",
    "dog.value_counts()\n",
    "#Throws an error yet also gives an answer."
   ]
  }
 ],
 "metadata": {
  "kernelspec": {
   "display_name": "Python 3 (ipykernel)",
   "language": "python",
   "name": "python3"
  },
  "language_info": {
   "codemirror_mode": {
    "name": "ipython",
    "version": 3
   },
   "file_extension": ".py",
   "mimetype": "text/x-python",
   "name": "python",
   "nbconvert_exporter": "python",
   "pygments_lexer": "ipython3",
   "version": "3.9.7"
  }
 },
 "nbformat": 4,
 "nbformat_minor": 5
}
